{
 "cells": [
  {
   "cell_type": "code",
   "execution_count": 66,
   "id": "10177b67",
   "metadata": {},
   "outputs": [],
   "source": [
    "import particle\n",
    "import ROOT\n",
    "import math"
   ]
  },
  {
   "cell_type": "code",
   "execution_count": 67,
   "id": "be2f6e2a",
   "metadata": {},
   "outputs": [
    {
     "name": "stdout",
     "output_type": "stream",
     "text": [
      "0.0005109989499999999 0.10565837550000001\n"
     ]
    }
   ],
   "source": [
    "m_e = particle.Particle.from_name('e-').mass * 1e-3  # GeV\n",
    "m_mu = particle.Particle.from_name('mu-').mass * 1e-3  # GeV\n",
    "E_e = m_e\n",
    "E_mu = 1  # GeV\n",
    "print(m_e, m_mu)"
   ]
  },
  {
   "cell_type": "code",
   "execution_count": 68,
   "id": "16fd2fda",
   "metadata": {},
   "outputs": [
    {
     "name": "stdout",
     "output_type": "stream",
     "text": [
      "0.0 0.0 0.0 0.0005109989499999999\n"
     ]
    }
   ],
   "source": [
    "p_e = ROOT.TLorentzVector()\n",
    "p_e.SetPxPyPzE(0, 0, math.sqrt(E_e*E_e - m_e*m_e), E_e)\n",
    "print(p_e.Px(), p_e.Py(), p_e.Pz(), p_e.E())"
   ]
  },
  {
   "cell_type": "code",
   "execution_count": 69,
   "id": "ce5b1fc3",
   "metadata": {
    "scrolled": true
   },
   "outputs": [
    {
     "name": "stdout",
     "output_type": "stream",
     "text": [
      "0.0 0.0 0.994402487771778 1.0\n"
     ]
    }
   ],
   "source": [
    "p_mu = ROOT.TLorentzVector()\n",
    "p_mu.SetPxPyPzE(0, 0, math.sqrt(E_mu*E_mu - m_mu*m_mu), E_mu)\n",
    "print(p_mu.Px(), p_mu.Py(), p_mu.Pz(), p_mu.E())"
   ]
  },
  {
   "cell_type": "code",
   "execution_count": 70,
   "id": "a3ea02d1",
   "metadata": {},
   "outputs": [
    {
     "name": "stdout",
     "output_type": "stream",
     "text": [
      "0.0 0.0 -0.003967225740123556 0.004\n"
     ]
    }
   ],
   "source": [
    "# Boosted electron momentum.\n",
    "bE_e = 0.004  # GeV\n",
    "bp_e = ROOT.TLorentzVector()\n",
    "bp_e.SetPxPyPzE(0, 0, -math.sqrt(bE_e*bE_e - m_e*m_e), bE_e)\n",
    "print(bp_e.Px(), bp_e.Py(), bp_e.Pz(), bp_e.E())"
   ]
  },
  {
   "cell_type": "code",
   "execution_count": 71,
   "id": "0f1c69dd",
   "metadata": {},
   "outputs": [
    {
     "name": "stdout",
     "output_type": "stream",
     "text": [
      "0.0 0.0 -0.9918064350308889\n",
      "0.0 0.0 0.020321393935459398 0.10759484822601416\n"
     ]
    }
   ],
   "source": [
    "# Boosted muon momentum.\n",
    "b = bp_e.BoostVector()\n",
    "print(b.X(), b.Y(), b.Z())\n",
    "bp_mu = p_mu.Clone()\n",
    "bp_mu.Boost(b)\n",
    "print(bp_mu.Px(), bp_mu.Py(), bp_mu.Pz(), bp_mu.E())"
   ]
  },
  {
   "cell_type": "code",
   "execution_count": 72,
   "id": "7dda9b2e",
   "metadata": {},
   "outputs": [
    {
     "name": "stdout",
     "output_type": "stream",
     "text": [
      "0.0 0.0 -0.00998693546955716 0.01\n"
     ]
    }
   ],
   "source": [
    "# New boosted electron momentum.\n",
    "bE_e = 0.01  # GeV\n",
    "bp_e = ROOT.TLorentzVector()\n",
    "bp_e.SetPxPyPzE(0, 0, -math.sqrt(bE_e*bE_e - m_e*m_e), bE_e)\n",
    "print(bp_e.Px(), bp_e.Py(), bp_e.Pz(), bp_e.E())"
   ]
  },
  {
   "cell_type": "code",
   "execution_count": 73,
   "id": "db552df9",
   "metadata": {},
   "outputs": [
    {
     "name": "stdout",
     "output_type": "stream",
     "text": [
      "0.0 0.0 0.994402487771778 1.0\n"
     ]
    }
   ],
   "source": [
    "# New boosted muon momentum.\n",
    "bE_mu = 1  # GeV\n",
    "bp_mu = ROOT.TLorentzVector()\n",
    "bp_mu.SetPxPyPzE(0, 0, math.sqrt(bE_mu*bE_mu - m_mu*m_mu), bE_mu)\n",
    "print(bp_mu.Px(), bp_mu.Py(), bp_mu.Pz(), bp_mu.E())"
   ]
  },
  {
   "cell_type": "code",
   "execution_count": 74,
   "id": "efdb43ac",
   "metadata": {},
   "outputs": [
    {
     "name": "stdout",
     "output_type": "stream",
     "text": [
      "-0.0 -0.0 0.9986935469557159\n",
      "0.0 0.0 2.7755575615628914e-17 0.0005109989500000237\n",
      "0.0 0.0 39.00391644106863 39.004059550695196\n"
     ]
    }
   ],
   "source": [
    "# New electron/muon momentum.\n",
    "b = -bp_e.BoostVector()\n",
    "print(b.X(), b.Y(), b.Z())\n",
    "p_e = bp_e.Clone()\n",
    "p_e.Boost(b)\n",
    "print(p_e.Px(), p_e.Py(), p_e.Pz(), p_e.E())\n",
    "p_mu = bp_mu.Clone()\n",
    "p_mu.Boost(b)\n",
    "print(p_mu.Px(), p_mu.Py(), p_mu.Pz(), p_mu.E())"
   ]
  }
 ],
 "metadata": {
  "kernelspec": {
   "display_name": "Python 3 (ipykernel)",
   "language": "python",
   "name": "python3"
  },
  "language_info": {
   "codemirror_mode": {
    "name": "ipython",
    "version": 3
   },
   "file_extension": ".py",
   "mimetype": "text/x-python",
   "name": "python",
   "nbconvert_exporter": "python",
   "pygments_lexer": "ipython3",
   "version": "3.12.3"
  }
 },
 "nbformat": 4,
 "nbformat_minor": 5
}
